{
 "cells": [
  {
   "cell_type": "markdown",
   "id": "3f945617-e55e-4e0d-a5f8-9fbbd0ee84a2",
   "metadata": {},
   "source": [
    "# Data Science Tools and Ecosystem "
   ]
  },
  {
   "cell_type": "markdown",
   "id": "391e7878-2d92-47db-af0c-94e84a128354",
   "metadata": {},
   "source": [
    "# introduction\n",
    "\n",
    "In this notebook, Data Science Tools and Ecosystem are summarized."
   ]
  },
  {
   "cell_type": "markdown",
   "id": "08f0e1d8-d64d-4360-b74b-af1aa2570185",
   "metadata": {},
   "source": [
    "Some of the popular languages that Data Scientists use are:"
   ]
  },
  {
   "cell_type": "markdown",
   "id": "15c40e5f-3c9d-4d19-8f13-1697475251f9",
   "metadata": {},
   "source": [
    "# Data Science Languages\n",
    "\n",
    "Some of the popular languages that Data Scientists use are:\n",
    "\n",
    "1. **Python**\n",
    "2. **R**\n",
    "3. **SQL**\n",
    "\n",
    "\n",
    "\n"
   ]
  },
  {
   "cell_type": "markdown",
   "id": "b87b80c0-3558-4500-8904-f32871b2faf8",
   "metadata": {},
   "source": [
    "\n",
    "\n",
    "Some of the commonly used libraries used by Data Scientists include:\n",
    "\n",
    "1. **NumPy**: Fundamental package for numerical computations in Python.\n",
    "2. **Pandas**: Powerful library for data manipulation and analysis.\n",
    "3. **Matplotlib**: Comprehensive library for creating static, animated, and interactive visualizations.\n",
    "\n",
    "\n"
   ]
  },
  {
   "cell_type": "markdown",
   "id": "302b27a9-8707-47c4-b1b4-5fdbef5ed2e4",
   "metadata": {},
   "source": [
    "| Data Science Tools |\n",
    "\n",
    "|Python|   \n",
    "| R |  \n",
    "|SQL| "
   ]
  },
  {
   "cell_type": "markdown",
   "id": "a1496391-2282-4448-b54f-eb90ad6c6b78",
   "metadata": {},
   "source": [
    "### Below are a few examples of evaluating arithmetic expressions in Python"
   ]
  },
  {
   "cell_type": "code",
   "execution_count": 12,
   "id": "23591bc5-57f4-45d2-b07c-f2cdf595b302",
   "metadata": {},
   "outputs": [
    {
     "data": {
      "text/plain": [
       "17"
      ]
     },
     "execution_count": 12,
     "metadata": {},
     "output_type": "execute_result"
    }
   ],
   "source": [
    "# This a simple arithmetic expression to mutiply then add integers\n",
    "(3*4)+5"
   ]
  },
  {
   "cell_type": "code",
   "execution_count": 13,
   "id": "e9407401-380c-47f3-bd78-0400562519cf",
   "metadata": {},
   "outputs": [
    {
     "data": {
      "text/plain": [
       "3.3333333333333335"
      ]
     },
     "execution_count": 13,
     "metadata": {},
     "output_type": "execute_result"
    }
   ],
   "source": [
    "# This will convert 200 minutes to hours by diving by 60\n",
    "minutes = 200\n",
    "hours = minutes / 60\n",
    "hours\n"
   ]
  },
  {
   "cell_type": "markdown",
   "id": "10b63e5e-cfe2-4e60-b20a-c35d16fc0f0e",
   "metadata": {},
   "source": [
    "**Objectives:**\n",
    "* Python\n",
    "* R\n",
    "* SQL\n"
   ]
  },
  {
   "cell_type": "markdown",
   "id": "3cb14a28-3821-4360-9347-77c333f9ab21",
   "metadata": {},
   "source": [
    "## Author\n",
    "Alaa Zifa"
   ]
  }
 ],
 "metadata": {
  "kernelspec": {
   "display_name": "Python [conda env:base] *",
   "language": "python",
   "name": "conda-base-py"
  },
  "language_info": {
   "codemirror_mode": {
    "name": "ipython",
    "version": 3
   },
   "file_extension": ".py",
   "mimetype": "text/x-python",
   "name": "python",
   "nbconvert_exporter": "python",
   "pygments_lexer": "ipython3",
   "version": "3.12.7"
  }
 },
 "nbformat": 4,
 "nbformat_minor": 5
}
